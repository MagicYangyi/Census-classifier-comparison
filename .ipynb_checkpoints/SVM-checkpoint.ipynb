{
 "cells": [
  {
   "cell_type": "code",
   "execution_count": 1,
   "metadata": {
    "scrolled": true
   },
   "outputs": [
    {
     "name": "stderr",
     "output_type": "stream",
     "text": [
      "c:\\python27\\lib\\site-packages\\sklearn\\cross_validation.py:41: DeprecationWarning: This module was deprecated in version 0.18 in favor of the model_selection module into which all the refactored classes and functions are moved. Also note that the interface of the new CV iterators are different from that of this module. This module will be removed in 0.20.\n",
      "  \"This module will be removed in 0.20.\", DeprecationWarning)\n"
     ]
    },
    {
     "name": "stdout",
     "output_type": "stream",
     "text": [
      "(48842, 15)\n",
      "    age  workclass  fnlwgt  education  educational-num  marital-status  \\\n",
      "0    25          3  226802          1                7               4   \n",
      "1    38          3   89814         11                9               2   \n",
      "2    28          1  336951          7               12               2   \n",
      "3    44          3  160323         15               10               2   \n",
      "4    18          3  103497         15               10               4   \n",
      "5    34          3  198693          0                6               4   \n",
      "6    29          3  227026         11                9               4   \n",
      "7    63          5  104626         14               15               2   \n",
      "8    24          3  369667         15               10               4   \n",
      "9    55          3  104996          5                4               2   \n",
      "10   65          3  184454         11                9               2   \n",
      "11   36          0  212465          9               13               2   \n",
      "12   26          3   82091         11                9               4   \n",
      "13   58          3  299831         11                9               2   \n",
      "14   48          3  279724         11                9               2   \n",
      "15   43          3  346189         12               14               2   \n",
      "16   20          6  444554         15               10               4   \n",
      "17   43          3  128354         11                9               2   \n",
      "18   37          3   60548         11                9               6   \n",
      "19   40          3   85019         10               16               2   \n",
      "\n",
      "    occupation  relationship  race  gender  capital-gain  capital-loss  \\\n",
      "0            6             3     2       1             0             0   \n",
      "1            4             0     4       1             0             0   \n",
      "2           10             0     4       1             0             0   \n",
      "3            6             0     2       1          7688             0   \n",
      "4            9             3     4       0             0             0   \n",
      "5            7             1     4       1             0             0   \n",
      "6            9             4     2       1             0             0   \n",
      "7            9             0     4       1          3103             0   \n",
      "8            7             4     4       0             0             0   \n",
      "9            2             0     4       1             0             0   \n",
      "10           6             0     4       1          6418             0   \n",
      "11           0             0     4       1             0             0   \n",
      "12           0             1     4       0             0             0   \n",
      "13           9             0     4       1             0             0   \n",
      "14           6             0     4       1          3103             0   \n",
      "15           3             0     4       1             0             0   \n",
      "16           7             3     4       1             0             0   \n",
      "17           0             5     4       0             0             0   \n",
      "18           6             4     4       0             0             0   \n",
      "19           9             0     1       1             0             0   \n",
      "\n",
      "    hours-per-week  native-country  income  \n",
      "0               40              38       0  \n",
      "1               50              38       0  \n",
      "2               40              38       1  \n",
      "3               40              38       1  \n",
      "4               30              38       0  \n",
      "5               30              38       0  \n",
      "6               40              38       0  \n",
      "7               32              38       1  \n",
      "8               40              38       0  \n",
      "9               10              38       0  \n",
      "10              40              38       1  \n",
      "11              40              38       0  \n",
      "12              39              38       0  \n",
      "13              35              38       0  \n",
      "14              48              38       1  \n",
      "15              50              38       1  \n",
      "16              25              38       0  \n",
      "17              30              38       0  \n",
      "18              20              38       0  \n",
      "19              45              38       1  \n"
     ]
    }
   ],
   "source": [
    "# Load libraries\n",
    "import pandas\n",
    "import numpy as np\n",
    "from sklearn import metrics\n",
    "from pandas.tools.plotting import scatter_matrix\n",
    "import matplotlib.pyplot as plt\n",
    "from sklearn import model_selection\n",
    "from sklearn.metrics import classification_report\n",
    "from sklearn.metrics import confusion_matrix\n",
    "from sklearn.metrics import accuracy_score\n",
    "from sklearn.linear_model import LogisticRegression\n",
    "from sklearn.tree import DecisionTreeClassifier\n",
    "from sklearn.ensemble import RandomForestClassifier\n",
    "from sklearn.neighbors import KNeighborsClassifier\n",
    "from sklearn.discriminant_analysis import LinearDiscriminantAnalysis\n",
    "from sklearn.naive_bayes import GaussianNB\n",
    "from sklearn.metrics import roc_curve, auc\n",
    "from sklearn import preprocessing\n",
    "from sklearn import svm\n",
    "from sklearn.cross_validation import train_test_split\n",
    "from sklearn import tree\n",
    "\n",
    "# Load dataset\n",
    "url = \"adult_PPnoFS.csv\"\n",
    "df = pandas.read_csv(url)\n",
    "print(df.shape)\n",
    "print(df.head(20))"
   ]
  },
  {
   "cell_type": "code",
   "execution_count": null,
   "metadata": {},
   "outputs": [],
   "source": [
    "import pandas as pd\n",
    "import numpy as np\n",
    "from sklearn import svm, datasets\n",
    "import matplotlib.pyplot as plt\n",
    "%matplotlib inline\n",
    "\n",
    "X = df.values[:, :14]\n",
    "y = df.values[:,14]\n",
    "\n",
    "\n",
    "X_train, X_test, y_train, y_test = train_test_split(X, y)\n",
    "\n",
    "from sklearn.preprocessing import StandardScaler\n",
    "sc = StandardScaler()\n",
    "X_train = sc.fit_transform(X_train)\n",
    "X_test = sc.transform(X_test)\n",
    "\n",
    "model = svm.SVC(kernel='rbf',decision_function_shape='ovr',max_iter=9000)\n",
    "model.fit(X_train, y_train)\n",
    "y_pred= model.predict(X_test)\n"
   ]
  },
  {
   "cell_type": "code",
   "execution_count": 3,
   "metadata": {},
   "outputs": [
    {
     "name": "stdout",
     "output_type": "stream",
     "text": [
      "\n",
      "Accuracy is  84.5958561952 \n",
      "\n",
      "Precision Value is\n",
      "             precision    recall  f1-score   support\n",
      "\n",
      "          0       0.86      0.94      0.90      9209\n",
      "          1       0.76      0.54      0.63      3002\n",
      "\n",
      "avg / total       0.84      0.85      0.84     12211\n",
      "\n"
     ]
    },
    {
     "data": {
      "image/png": "[encoded data removed]",
      "text/plain": [
       "<matplotlib.figure.Figure at 0x664ec90>"
      ]
     },
     "metadata": {},
     "output_type": "display_data"
    }
   ],
   "source": [
    "print \"\\nAccuracy is \", accuracy_score(y_test,y_pred)*100,\"\\n\\nPrecision Value is\\n\",metrics.classification_report(y_test,y_pred)\n",
    "conf_arr =confusion_matrix(y_test,y_pred)\n",
    "\n",
    "\n",
    "norm_conf = []\n",
    "for i in conf_arr:\n",
    "    a = 0\n",
    "    tmp_arr = []\n",
    "    a = sum(i, 0)\n",
    "    for j in i:\n",
    "        tmp_arr.append(float(j)/float(a))\n",
    "    norm_conf.append(tmp_arr)\n",
    "\n",
    "fig = plt.figure()\n",
    "plt.clf()\n",
    "ax = fig.add_subplot(1,2,1)\n",
    "ax.set_aspect(1)\n",
    "res = ax.imshow(np.array(norm_conf), cmap=plt.cm.jet, \n",
    "                interpolation='nearest')\n",
    "\n",
    "width, height = conf_arr.shape\n",
    "\n",
    "for x in xrange(width):\n",
    "    for y in xrange(height):\n",
    "        ax.annotate(str(conf_arr[x][y]), xy=(y, x), \n",
    "                    horizontalalignment='center',\n",
    "                    verticalalignment='center')\n",
    "\n",
    "plt.title(\"Confusion Matrix\")\n",
    "plt.xticks(range(width), ['positive','negative'])\n",
    "plt.yticks(range(height), ['positive','negative'])\n",
    "plt.show()"
   ]
  },
  {
   "cell_type": "code",
   "execution_count": 4,
   "metadata": {},
   "outputs": [
    {
     "data": {
      "image/png": "[encoded data removed]",
      "text/plain": [
       "<matplotlib.figure.Figure at 0x10f94f50>"
      ]
     },
     "metadata": {},
     "output_type": "display_data"
    }
   ],
   "source": [
    "false_positive_rate, true_positive_rate, thresholds = roc_curve(y_test, y_pred)\n",
    "roc_auc = auc(false_positive_rate, true_positive_rate)\n",
    "\n",
    "plt.title('Receiver Operating Characteristic Decision Tree')\n",
    "plt.plot(false_positive_rate, true_positive_rate, 'b',label='AUC = %0.2f'% roc_auc)\n",
    "plt.legend(loc='lower right')\n",
    "plt.plot([0,1],[0,1],'r--')\n",
    "plt.xlim([-0.1,1.2])\n",
    "plt.ylim([-0.1,1.2])\n",
    "plt.ylabel('True Positive Rate')\n",
    "plt.xlabel('False Positive Rate')\n",
    "plt.show()"
   ]
  },
  {
   "cell_type": "code",
   "execution_count": 5,
   "metadata": {},
   "outputs": [
    {
     "name": "stdout",
     "output_type": "stream",
     "text": [
      "Gini_coefficient of both the Decision Tree classifier models are\n",
      "\n",
      "Gini Index= 0.487923857762\n"
     ]
    }
   ],
   "source": [
    "Gini_coefficient_gini=2*roc_auc - 1\n",
    "print(\"Gini_coefficient of both the Decision Tree classifier models are\\n\")\n",
    "print \"Gini Index=\",Gini_coefficient_gini"
   ]
  },
  {
   "cell_type": "code",
   "execution_count": null,
   "metadata": {},
   "outputs": [],
   "source": []
  }
 ],
 "metadata": {
  "kernelspec": {
   "display_name": "Python 2",
   "language": "python",
   "name": "python2"
  },
  "language_info": {
   "codemirror_mode": {
    "name": "ipython",
    "version": 2
   },
   "file_extension": ".py",
   "mimetype": "text/x-python",
   "name": "python",
   "nbconvert_exporter": "python",
   "pygments_lexer": "ipython2",
   "version": "2.7.13"
  }
 },
 "nbformat": 4,
 "nbformat_minor": 2
}
