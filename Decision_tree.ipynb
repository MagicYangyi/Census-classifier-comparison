{
 "cells": [
  {
   "cell_type": "code",
   "execution_count": 1,
   "metadata": {},
   "outputs": [
    {
     "name": "stderr",
     "output_type": "stream",
     "text": [
      "c:\\python27\\lib\\site-packages\\sklearn\\cross_validation.py:41: DeprecationWarning: This module was deprecated in version 0.18 in favor of the model_selection module into which all the refactored classes and functions are moved. Also note that the interface of the new CV iterators are different from that of this module. This module will be removed in 0.20.\n",
      "  \"This module will be removed in 0.20.\", DeprecationWarning)\n"
     ]
    }
   ],
   "source": [
    "# Load libraries\n",
    "import pandas\n",
    "import numpy\n",
    "from sklearn import metrics\n",
    "from pandas.tools.plotting import scatter_matrix\n",
    "import matplotlib.pyplot as plt\n",
    "from sklearn import model_selection\n",
    "from sklearn.metrics import classification_report\n",
    "from sklearn.metrics import confusion_matrix\n",
    "from sklearn.metrics import accuracy_score\n",
    "from sklearn.linear_model import LogisticRegression\n",
    "from sklearn.tree import DecisionTreeClassifier\n",
    "from sklearn.ensemble import RandomForestClassifier\n",
    "from sklearn.neighbors import KNeighborsClassifier\n",
    "from sklearn.discriminant_analysis import LinearDiscriminantAnalysis\n",
    "from sklearn.naive_bayes import GaussianNB\n",
    "from sklearn import preprocessing\n",
    "from sklearn.svm import SVC\n",
    "from sklearn.cross_validation import train_test_split\n",
    "from sklearn import tree"
   ]
  },
  {
   "cell_type": "code",
   "execution_count": 2,
   "metadata": {},
   "outputs": [],
   "source": [
    "# Load dataset\n",
    "url = \"adult.csv\"\n",
    "#url = \"http://archive.ics.uci.edu/ml/machine-learning-databases/adult/adult.data\"\n",
    "# names = ['age','workclass','fnlwgt','education','education-num','marital-status','occupation','relationship','race','sex','capital-gain','capital-loss','hours-per-week','native-country','income']\n",
    "df = pandas.read_csv(url)\n"
   ]
  },
  {
   "cell_type": "markdown",
   "metadata": {},
   "source": [
    "## Dataset Description"
   ]
  },
  {
   "cell_type": "code",
   "execution_count": 3,
   "metadata": {
    "scrolled": true
   },
   "outputs": [
    {
     "name": "stdout",
     "output_type": "stream",
     "text": [
      "    age         workclass  fnlwgt     education  educational-num  \\\n",
      "0    25           Private  226802          11th                7   \n",
      "1    38           Private   89814       HS-grad                9   \n",
      "2    28         Local-gov  336951    Assoc-acdm               12   \n",
      "3    44           Private  160323  Some-college               10   \n",
      "4    18                 ?  103497  Some-college               10   \n",
      "5    34           Private  198693          10th                6   \n",
      "6    29                 ?  227026       HS-grad                9   \n",
      "7    63  Self-emp-not-inc  104626   Prof-school               15   \n",
      "8    24           Private  369667  Some-college               10   \n",
      "9    55           Private  104996       7th-8th                4   \n",
      "10   65           Private  184454       HS-grad                9   \n",
      "11   36       Federal-gov  212465     Bachelors               13   \n",
      "12   26           Private   82091       HS-grad                9   \n",
      "13   58                 ?  299831       HS-grad                9   \n",
      "14   48           Private  279724       HS-grad                9   \n",
      "15   43           Private  346189       Masters               14   \n",
      "16   20         State-gov  444554  Some-college               10   \n",
      "17   43           Private  128354       HS-grad                9   \n",
      "18   37           Private   60548       HS-grad                9   \n",
      "19   40           Private   85019     Doctorate               16   \n",
      "\n",
      "        marital-status         occupation   relationship                race  \\\n",
      "0        Never-married  Machine-op-inspct      Own-child               Black   \n",
      "1   Married-civ-spouse    Farming-fishing        Husband               White   \n",
      "2   Married-civ-spouse    Protective-serv        Husband               White   \n",
      "3   Married-civ-spouse  Machine-op-inspct        Husband               Black   \n",
      "4        Never-married                  ?      Own-child               White   \n",
      "5        Never-married      Other-service  Not-in-family               White   \n",
      "6        Never-married                  ?      Unmarried               Black   \n",
      "7   Married-civ-spouse     Prof-specialty        Husband               White   \n",
      "8        Never-married      Other-service      Unmarried               White   \n",
      "9   Married-civ-spouse       Craft-repair        Husband               White   \n",
      "10  Married-civ-spouse  Machine-op-inspct        Husband               White   \n",
      "11  Married-civ-spouse       Adm-clerical        Husband               White   \n",
      "12       Never-married       Adm-clerical  Not-in-family               White   \n",
      "13  Married-civ-spouse                  ?        Husband               White   \n",
      "14  Married-civ-spouse  Machine-op-inspct        Husband               White   \n",
      "15  Married-civ-spouse    Exec-managerial        Husband               White   \n",
      "16       Never-married      Other-service      Own-child               White   \n",
      "17  Married-civ-spouse       Adm-clerical           Wife               White   \n",
      "18             Widowed  Machine-op-inspct      Unmarried               White   \n",
      "19  Married-civ-spouse     Prof-specialty        Husband  Asian-Pac-Islander   \n",
      "\n",
      "    gender  capital-gain  capital-loss  hours-per-week native-country income  \n",
      "0     Male             0             0              40  United-States  <=50K  \n",
      "1     Male             0             0              50  United-States  <=50K  \n",
      "2     Male             0             0              40  United-States   >50K  \n",
      "3     Male          7688             0              40  United-States   >50K  \n",
      "4   Female             0             0              30  United-States  <=50K  \n",
      "5     Male             0             0              30  United-States  <=50K  \n",
      "6     Male             0             0              40  United-States  <=50K  \n",
      "7     Male          3103             0              32  United-States   >50K  \n",
      "8   Female             0             0              40  United-States  <=50K  \n",
      "9     Male             0             0              10  United-States  <=50K  \n",
      "10    Male          6418             0              40  United-States   >50K  \n",
      "11    Male             0             0              40  United-States  <=50K  \n",
      "12  Female             0             0              39  United-States  <=50K  \n",
      "13    Male             0             0              35  United-States  <=50K  \n",
      "14    Male          3103             0              48  United-States   >50K  \n",
      "15    Male             0             0              50  United-States   >50K  \n",
      "16    Male             0             0              25  United-States  <=50K  \n",
      "17  Female             0             0              30  United-States  <=50K  \n",
      "18  Female             0             0              20  United-States  <=50K  \n",
      "19    Male             0             0              45              ?   >50K  \n",
      "                age        fnlwgt  educational-num  capital-gain  \\\n",
      "count  48842.000000  4.884200e+04     48842.000000  48842.000000   \n",
      "mean      38.643585  1.896641e+05        10.078089   1079.067626   \n",
      "std       13.710510  1.056040e+05         2.570973   7452.019058   \n",
      "min       17.000000  1.228500e+04         1.000000      0.000000   \n",
      "25%       28.000000  1.175505e+05         9.000000      0.000000   \n",
      "50%       37.000000  1.781445e+05        10.000000      0.000000   \n",
      "75%       48.000000  2.376420e+05        12.000000      0.000000   \n",
      "max       90.000000  1.490400e+06        16.000000  99999.000000   \n",
      "\n",
      "       capital-loss  hours-per-week  \n",
      "count  48842.000000    48842.000000  \n",
      "mean      87.502314       40.422382  \n",
      "std      403.004552       12.391444  \n",
      "min        0.000000        1.000000  \n",
      "25%        0.000000       40.000000  \n",
      "50%        0.000000       40.000000  \n",
      "75%        0.000000       45.000000  \n",
      "max     4356.000000       99.000000  \n"
     ]
    }
   ],
   "source": [
    "####### Dataset Description #######\n",
    "\n",
    "print(df.head(20))\n",
    "print(df.describe())"
   ]
  },
  {
   "cell_type": "markdown",
   "metadata": {},
   "source": [
    "## Preprocessing Data\n",
    "\n",
    "#### 1)Finding the number of missing values"
   ]
  },
  {
   "cell_type": "code",
   "execution_count": 4,
   "metadata": {
    "scrolled": true
   },
   "outputs": [
    {
     "name": "stdout",
     "output_type": "stream",
     "text": [
      "Description about the attributes containing number of missing values\n",
      "\n",
      "workclass\n",
      "2799\n",
      "5.73%\n",
      "\n",
      "\n",
      "occupation\n",
      "2809\n",
      "5.75%\n",
      "\n",
      "\n",
      "native-country\n",
      "857\n",
      "1.75%\n",
      "\n",
      "\n"
     ]
    }
   ],
   "source": [
    "col_names = df.columns\n",
    "num_data = df.shape[0]\n",
    "print(\"Description about the attributes containing number of missing values\\n\")\n",
    "for c in col_names:\n",
    "    # print(df[c])\n",
    "    num_non = df[c].isin([\"?\"]).sum()\n",
    "    # print(num_non)\n",
    "    if num_non > 0:\n",
    "        print (c)\n",
    "        print (num_non)\n",
    "        print (\"{0:.2f}%\".format(float(num_non) / num_data * 100))\n",
    "        print (\"\\n\")"
   ]
  },
  {
   "cell_type": "markdown",
   "metadata": {},
   "source": [
    "#### 2)Impuding the missing values \n",
    "    replacing the missing with NaN then with the top occurring value in the column"
   ]
  },
  {
   "cell_type": "code",
   "execution_count": 5,
   "metadata": {},
   "outputs": [],
   "source": [
    "col_names = df.columns\n",
    "for c in col_names:\n",
    "\tdf[c] = df[c].replace(\"?\", numpy.NaN)\n",
    "\n",
    "df = df.apply(lambda x:x.fillna(x.value_counts().index[0]))"
   ]
  },
  {
   "cell_type": "code",
   "execution_count": 6,
   "metadata": {
    "scrolled": true
   },
   "outputs": [
    {
     "name": "stdout",
     "output_type": "stream",
     "text": [
      "age                0\n",
      "workclass          0\n",
      "fnlwgt             0\n",
      "education          0\n",
      "educational-num    0\n",
      "marital-status     0\n",
      "occupation         0\n",
      "relationship       0\n",
      "race               0\n",
      "gender             0\n",
      "capital-gain       0\n",
      "capital-loss       0\n",
      "hours-per-week     0\n",
      "native-country     0\n",
      "income             0\n",
      "dtype: int64\n",
      "                age        fnlwgt  educational-num  capital-gain  \\\n",
      "count  48842.000000  4.884200e+04     48842.000000  48842.000000   \n",
      "mean      38.643585  1.896641e+05        10.078089   1079.067626   \n",
      "std       13.710510  1.056040e+05         2.570973   7452.019058   \n",
      "min       17.000000  1.228500e+04         1.000000      0.000000   \n",
      "25%       28.000000  1.175505e+05         9.000000      0.000000   \n",
      "50%       37.000000  1.781445e+05        10.000000      0.000000   \n",
      "75%       48.000000  2.376420e+05        12.000000      0.000000   \n",
      "max       90.000000  1.490400e+06        16.000000  99999.000000   \n",
      "\n",
      "       capital-loss  hours-per-week  \n",
      "count  48842.000000    48842.000000  \n",
      "mean      87.502314       40.422382  \n",
      "std      403.004552       12.391444  \n",
      "min        0.000000        1.000000  \n",
      "25%        0.000000       40.000000  \n",
      "50%        0.000000       40.000000  \n",
      "75%        0.000000       45.000000  \n",
      "max     4356.000000       99.000000  \n"
     ]
    }
   ],
   "source": [
    "print(df.isnull().sum())\n",
    "print(df.describe())\n"
   ]
  },
  {
   "cell_type": "markdown",
   "metadata": {},
   "source": [
    "\n",
    "### 3)Converting Categorical data to Numeric data\n",
    "        Here in the data column 'Gender' seems very varying we reduce them to either divorced or married.\n",
    "        Then apply label encoder to convert them into muneric values to categorical columns in the dataset."
   ]
  },
  {
   "cell_type": "code",
   "execution_count": 7,
   "metadata": {},
   "outputs": [],
   "source": [
    "# ### Discretisation of columns ###\n",
    "# df.replace(['Divorced', 'Married-AF-spouse', \n",
    "#               'Married-civ-spouse', 'Married-spouse-absent', \n",
    "#               'Never-married','Separated','Widowed'],\n",
    "#              ['divorced','married','married','married',\n",
    "#               'not married','not married','not married'], inplace = True)"
   ]
  },
  {
   "cell_type": "code",
   "execution_count": 8,
   "metadata": {},
   "outputs": [],
   "source": [
    "category_col =['workclass', 'race', 'education','marital-status', 'occupation',\n",
    "               'relationship', 'gender', 'native-country', 'income'] \n",
    "labelEncoder = preprocessing.LabelEncoder()\n",
    "for col in category_col:\n",
    "    df[col] = labelEncoder.fit_transform(df[col])\n",
    "\n",
    "# making a copy of the data frame\n",
    "df.to_csv('adult_PPnoFS.csv',index=False)"
   ]
  },
  {
   "cell_type": "markdown",
   "metadata": {},
   "source": [
    "## Prediction without any feature selection"
   ]
  },
  {
   "cell_type": "markdown",
   "metadata": {},
   "source": [
    "## Classifier-1\n",
    "### Desicion Tree\n",
    "\n",
    "    Here we build classifier using both gini index and information gain(Entropy).\n",
    "    The parameter test_size is given value 0.3; it means test sets will be 30% of whole dataset  & training dataset’s size will be 70% of the entire dataset. random_state variable is a pseudo-random number generator state used for random sampling. If you want to replicate our results, then use the same value of random_state."
   ]
  },
  {
   "cell_type": "code",
   "execution_count": 9,
   "metadata": {},
   "outputs": [],
   "source": [
    "### Slicing data ###\n",
    "X = df.values[:, 0:14]\n",
    "Y = df.values[:,14]\n",
    "\n",
    "X_train, X_test, y_train, y_test = train_test_split( X, Y, test_size = 0.3, random_state = 100)"
   ]
  },
  {
   "cell_type": "code",
   "execution_count": 10,
   "metadata": {},
   "outputs": [
    {
     "data": {
      "text/plain": [
       "DecisionTreeClassifier(class_weight=None, criterion='entropy', max_depth=5,\n",
       "            max_features=None, max_leaf_nodes=None,\n",
       "            min_impurity_decrease=0.0, min_impurity_split=None,\n",
       "            min_samples_leaf=5, min_samples_split=2,\n",
       "            min_weight_fraction_leaf=0.0, presort=False, random_state=100,\n",
       "            splitter='best')"
      ]
     },
     "execution_count": 10,
     "metadata": {},
     "output_type": "execute_result"
    }
   ],
   "source": [
    "### Desicion Tree with Gini Index ###\n",
    "\n",
    "dt_clf_gini = DecisionTreeClassifier(criterion = \"gini\", random_state = 100,\n",
    "                               max_depth=5, min_samples_leaf=5)\n",
    "dt_clf_gini.fit(X_train, y_train)\n",
    "### Desicion Tree with Information Gain ###\n",
    "\n",
    "dt_clf_entropy = DecisionTreeClassifier(criterion = \"entropy\", random_state = 100,\n",
    " max_depth=5, min_samples_leaf=5)\n",
    "\n",
    "dt_clf_entropy.fit(X_train, y_train)"
   ]
  },
  {
   "cell_type": "markdown",
   "metadata": {},
   "source": [
    " #### Now Predicting data on both classifiers using the test values"
   ]
  },
  {
   "cell_type": "code",
   "execution_count": 11,
   "metadata": {},
   "outputs": [],
   "source": [
    "y_pred_gini = dt_clf_gini.predict(X_test)\n",
    "y_pred_en = dt_clf_entropy.predict(X_test)"
   ]
  },
  {
   "cell_type": "markdown",
   "metadata": {},
   "source": [
    "#### --> Accuracy Scores And Precision value"
   ]
  },
  {
   "cell_type": "code",
   "execution_count": 12,
   "metadata": {},
   "outputs": [
    {
     "name": "stdout",
     "output_type": "stream",
     "text": [
      "Desicion Tree using Gini Index\n",
      "Accuracy is  85.0406060192 \n",
      "\n",
      "Precision Value is\n",
      "             precision    recall  f1-score   support\n",
      "\n",
      "          0       0.87      0.95      0.91     11121\n",
      "          1       0.77      0.54      0.63      3532\n",
      "\n",
      "avg / total       0.84      0.85      0.84     14653\n",
      "\n",
      "Desicion Tree using Information Gain\n",
      "Accuracy is  85.0337814782 \n",
      "\n",
      "Precision Value is\n",
      "             precision    recall  f1-score   support\n",
      "\n",
      "          0       0.87      0.95      0.91     11121\n",
      "          1       0.77      0.53      0.63      3532\n",
      "\n",
      "avg / total       0.84      0.85      0.84     14653\n",
      "\n"
     ]
    }
   ],
   "source": [
    "print \"Desicion Tree using Gini Index\\nAccuracy is \", accuracy_score(y_test,y_pred_gini)*100,\"\\n\\nPrecision Value is\\n\",metrics.classification_report(y_test,y_pred_gini)\n",
    "print \"Desicion Tree using Information Gain\\nAccuracy is \", accuracy_score(y_test,y_pred_en)*100,\"\\n\\nPrecision Value is\\n\",metrics.classification_report(y_test,y_pred_en)\n"
   ]
  },
  {
   "cell_type": "markdown",
   "metadata": {},
   "source": [
    "#### --> Confusion Matrix"
   ]
  },
  {
   "cell_type": "code",
   "execution_count": 13,
   "metadata": {},
   "outputs": [
    {
     "name": "stdout",
     "output_type": "stream",
     "text": [
      "[[10567   554]\n",
      " [ 1638  1894]]\n",
      "[[10572   549]\n",
      " [ 1644  1888]]\n"
     ]
    },
    {
     "data": {
      "image/png": "[encoded data removed]",
      "text/plain": [
       "<matplotlib.figure.Figure at 0x10b06c10>"
      ]
     },
     "metadata": {},
     "output_type": "display_data"
    },
    {
     "data": {
      "image/png": "[encoded data removed]",
      "text/plain": [
       "<matplotlib.figure.Figure at 0x108c2f50>"
      ]
     },
     "metadata": {},
     "output_type": "display_data"
    }
   ],
   "source": [
    "conf_arr_gini =confusion_matrix(y_test,y_pred_gini)\n",
    "conf_arr_en =confusion_matrix(y_test,y_pred_en)\n",
    "\n",
    "print(conf_arr_gini)\n",
    "print(conf_arr_en)\n",
    "\n",
    "norm_conf = []\n",
    "for i in conf_arr_gini:\n",
    "    a = 0\n",
    "    tmp_arr = []\n",
    "    a = sum(i, 0)\n",
    "    for j in i:\n",
    "        tmp_arr.append(float(j)/float(a))\n",
    "    norm_conf.append(tmp_arr)\n",
    "\n",
    "fig = plt.figure()\n",
    "plt.clf()\n",
    "ax = fig.add_subplot(1,2,1)\n",
    "ax.set_aspect(1)\n",
    "res = ax.imshow(numpy.array(norm_conf), cmap=plt.cm.jet, \n",
    "                interpolation='nearest')\n",
    "\n",
    "width, height = conf_arr_gini.shape\n",
    "\n",
    "for x in xrange(width):\n",
    "    for y in xrange(height):\n",
    "        ax.annotate(str(conf_arr_gini[x][y]), xy=(y, x), \n",
    "                    horizontalalignment='center',\n",
    "                    verticalalignment='center')\n",
    "\n",
    "plt.title(\"Gini Index\")\n",
    "plt.xticks(range(width), ['positive','negative'])\n",
    "plt.yticks(range(height), ['positive','negative'])\n",
    "plt.show()\n",
    "\n",
    "norm_conf_1 = []\n",
    "for i in conf_arr_en:\n",
    "    a = 0\n",
    "    tmp_arr = []\n",
    "    a = sum(i, 0)\n",
    "    for j in i:\n",
    "        tmp_arr.append(float(j)/float(a))\n",
    "    norm_conf_1.append(tmp_arr)\n",
    "\n",
    "fig = plt.figure()\n",
    "plt.clf()\n",
    "ax1 = fig.add_subplot(1,2,2)\n",
    "ax1.set_aspect(1)\n",
    "res = ax1.imshow(numpy.array(norm_conf_1), cmap=plt.cm.jet, \n",
    "                interpolation='nearest')\n",
    "\n",
    "width, height = conf_arr_en.shape\n",
    "\n",
    "for x in xrange(width):\n",
    "    for y in xrange(height):\n",
    "        ax1.annotate(str(conf_arr_en[x][y]), xy=(y, x), \n",
    "                    horizontalalignment='center',\n",
    "                    verticalalignment='center')\n",
    "\n",
    "plt.title(\"Index\")\n",
    "plt.xticks(range(width), ['positive','negative'])\n",
    "plt.yticks(range(height), ['positive','negative'])\n",
    "plt.show()\n"
   ]
  },
  {
   "cell_type": "markdown",
   "metadata": {},
   "source": [
    "#### -->Roc/AOC "
   ]
  },
  {
   "cell_type": "code",
   "execution_count": 14,
   "metadata": {},
   "outputs": [
    {
     "data": {
      "image/png": "[encoded data removed]",
      "text/plain": [
       "<matplotlib.figure.Figure at 0x10883ef0>"
      ]
     },
     "metadata": {},
     "output_type": "display_data"
    },
    {
     "data": {
      "image/png": "[encoded data removed]",
      "text/plain": [
       "<matplotlib.figure.Figure at 0x1097e450>"
      ]
     },
     "metadata": {},
     "output_type": "display_data"
    }
   ],
   "source": [
    "from sklearn.metrics import roc_curve, auc\n",
    "\n",
    "## Gini Index\n",
    "\n",
    "false_positive_rate, true_positive_rate, thresholds = roc_curve(y_test, y_pred_gini)\n",
    "roc_auc_gini = auc(false_positive_rate, true_positive_rate)\n",
    "\n",
    "plt.title('Receiver Operating Characteristic Decision Tree (Gini Index)')\n",
    "plt.plot(false_positive_rate, true_positive_rate, 'b',label='AUC = %0.2f'% roc_auc_gini)\n",
    "plt.legend(loc='lower right')\n",
    "plt.plot([0,1],[0,1],'r--')\n",
    "plt.xlim([-0.1,1.2])\n",
    "plt.ylim([-0.1,1.2])\n",
    "plt.ylabel('True Positive Rate')\n",
    "plt.xlabel('False Positive Rate')\n",
    "plt.show()\n",
    "\n",
    "## Information Gain\n",
    "         \n",
    "false_positive_rate, true_positive_rate, thresholds = roc_curve(y_test, y_pred_en)\n",
    "roc_auc_en = auc(false_positive_rate, true_positive_rate)\n",
    "\n",
    "plt.title('Receiver Operating Characteristic Decision Tree (Information Gain)')\n",
    "plt.plot(false_positive_rate, true_positive_rate, 'b',label= \"AUC = %0.2f\"% roc_auc_en)\n",
    "plt.legend(loc='lower right')\n",
    "plt.plot([0,1],[0,1],'r--')\n",
    "plt.xlim([-0.1,1.2])\n",
    "plt.ylim([-0.1,1.2])\n",
    "plt.ylabel('True Positive Rate')\n",
    "plt.xlabel('False Positive Rate')\n",
    "plt.show()"
   ]
  },
  {
   "cell_type": "markdown",
   "metadata": {},
   "source": [
    "#### --> Gini Coefficient"
   ]
  },
  {
   "cell_type": "code",
   "execution_count": 15,
   "metadata": {},
   "outputs": [
    {
     "name": "stdout",
     "output_type": "stream",
     "text": [
      "Gini_coefficient of both the Decision Tree classifier models are\n",
      "\n",
      "Gini Index= 0.486424426541\n",
      "Information Gain= 0.48517527215\n"
     ]
    }
   ],
   "source": [
    "Gini_coefficient_gini=2*roc_auc_gini - 1\n",
    "Gini_coefficient_en=2*roc_auc_en - 1\n",
    "print(\"Gini_coefficient of both the Decision Tree classifier models are\\n\")\n",
    "print \"Gini Index=\",Gini_coefficient_gini\n",
    "print \"Information Gain=\",Gini_coefficient_en"
   ]
  }
 ],
 "metadata": {
  "kernelspec": {
   "display_name": "Python 2",
   "language": "python",
   "name": "python2"
  },
  "language_info": {
   "codemirror_mode": {
    "name": "ipython",
    "version": 2
   },
   "file_extension": ".py",
   "mimetype": "text/x-python",
   "name": "python",
   "nbconvert_exporter": "python",
   "pygments_lexer": "ipython2",
   "version": "2.7.13"
  }
 },
 "nbformat": 4,
 "nbformat_minor": 2
}
